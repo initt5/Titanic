{
 "cells": [
  {
   "cell_type": "markdown",
   "id": "456c9be4-88f1-480d-8843-b5e91d0a7024",
   "metadata": {},
   "source": [
    "<h1><center>Titanic</center></h1>"
   ]
  },
  {
   "cell_type": "markdown",
   "id": "a2dc7c3b-89a0-4b9b-b187-f821128909ac",
   "metadata": {
    "tags": []
   },
   "source": [
    "<h1>1. Problem definition</h1>"
   ]
  },
  {
   "cell_type": "markdown",
   "id": "39290aee-ec3d-4cc4-a440-93dcd7817e47",
   "metadata": {},
   "source": [
    "In this notebook, I'll consider the problem of predicting survival on the Titanic using the Titanic dataset. It is based on a Kaggle competition called \"Titanic - Machine Learning from Disaster\". We are tackling with Classification problem, we will clean and analyze dataset, and then create machine learning model using scikit-learn library. This solution is created solely for educational purposes."
   ]
  },
  {
   "cell_type": "markdown",
   "id": "19a24c0c-8a4a-4b86-86ae-419222617dba",
   "metadata": {},
   "source": [
    "<h2>1.1 Preliminary assumptions</h2>"
   ]
  },
  {
   "cell_type": "markdown",
   "id": "f2836092-8396-4d35-ab67-1c28d5b9dd08",
   "metadata": {},
   "source": [
    "- PassengerId won't matter to the model, it only counts the number of passengers.\n",
    "- Passenger wealth will help survival, so variables such as Pclass, Fare, Name (especially specific honors) and perhaps Ticket will matter to the model.\n",
    "- The gender of the passenger will matter, in this type of disaster women are more likely to be rescued first, especially in the years of this disaster.\n",
    "- The age of the passenger will matter, those who are young or older may have a higher survival rate.\n",
    "- SibSp and Parch will matter, those with more siblings (especially children) on board will have a higher survival rate.\n",
    "- Port of embarkation and cabin may matter because they can dictate location on the ship.\n",
    "- Numbers in the Ticket variable are most likely useless, but letters may have some meaning."
   ]
  },
  {
   "cell_type": "markdown",
   "id": "d1bea034-aa69-40f9-828b-f1ef16ddadc5",
   "metadata": {},
   "source": [
    "<h1>2. Data preparation</h1>"
   ]
  },
  {
   "cell_type": "markdown",
   "id": "d8a9c793-586d-4969-9a1e-90a4cef52bd1",
   "metadata": {},
   "source": [
    "<h3>Import packages</h3>"
   ]
  },
  {
   "cell_type": "code",
   "execution_count": 1,
   "id": "6303d086-19f8-4693-bcdc-ead728940739",
   "metadata": {},
   "outputs": [],
   "source": [
    "# data analysis and manipulation\n",
    "import pandas as pd\n",
    "import numpy as np"
   ]
  },
  {
   "cell_type": "markdown",
   "id": "2da5c280-93ef-4071-a492-253bf96b1f61",
   "metadata": {},
   "source": [
    "<h3>Load datasets</h3>"
   ]
  },
  {
   "cell_type": "code",
   "execution_count": 2,
   "id": "e73421e5-b277-4f93-8316-987d08715a67",
   "metadata": {},
   "outputs": [],
   "source": [
    "# load data from csv file into dataframe\n",
    "train = pd.read_csv('data/train.csv')\n",
    "test = pd.read_csv('data/train.csv')"
   ]
  },
  {
   "cell_type": "markdown",
   "id": "3ef17c21-05ab-484d-9957-2b997e1a636c",
   "metadata": {},
   "source": [
    "<h3>Check the data</h3>"
   ]
  },
  {
   "cell_type": "code",
   "execution_count": 3,
   "id": "ca75c486-347e-4ca6-b969-75382797c273",
   "metadata": {
    "tags": []
   },
   "outputs": [
    {
     "data": {
      "text/html": [
       "<div>\n",
       "<style scoped>\n",
       "    .dataframe tbody tr th:only-of-type {\n",
       "        vertical-align: middle;\n",
       "    }\n",
       "\n",
       "    .dataframe tbody tr th {\n",
       "        vertical-align: top;\n",
       "    }\n",
       "\n",
       "    .dataframe thead th {\n",
       "        text-align: right;\n",
       "    }\n",
       "</style>\n",
       "<table border=\"1\" class=\"dataframe\">\n",
       "  <thead>\n",
       "    <tr style=\"text-align: right;\">\n",
       "      <th></th>\n",
       "      <th>PassengerId</th>\n",
       "      <th>Survived</th>\n",
       "      <th>Pclass</th>\n",
       "      <th>Name</th>\n",
       "      <th>Sex</th>\n",
       "      <th>Age</th>\n",
       "      <th>SibSp</th>\n",
       "      <th>Parch</th>\n",
       "      <th>Ticket</th>\n",
       "      <th>Fare</th>\n",
       "      <th>Cabin</th>\n",
       "      <th>Embarked</th>\n",
       "    </tr>\n",
       "  </thead>\n",
       "  <tbody>\n",
       "    <tr>\n",
       "      <th>0</th>\n",
       "      <td>1</td>\n",
       "      <td>0</td>\n",
       "      <td>3</td>\n",
       "      <td>Braund, Mr. Owen Harris</td>\n",
       "      <td>male</td>\n",
       "      <td>22.0</td>\n",
       "      <td>1</td>\n",
       "      <td>0</td>\n",
       "      <td>A/5 21171</td>\n",
       "      <td>7.2500</td>\n",
       "      <td>NaN</td>\n",
       "      <td>S</td>\n",
       "    </tr>\n",
       "    <tr>\n",
       "      <th>1</th>\n",
       "      <td>2</td>\n",
       "      <td>1</td>\n",
       "      <td>1</td>\n",
       "      <td>Cumings, Mrs. John Bradley (Florence Briggs Th...</td>\n",
       "      <td>female</td>\n",
       "      <td>38.0</td>\n",
       "      <td>1</td>\n",
       "      <td>0</td>\n",
       "      <td>PC 17599</td>\n",
       "      <td>71.2833</td>\n",
       "      <td>C85</td>\n",
       "      <td>C</td>\n",
       "    </tr>\n",
       "    <tr>\n",
       "      <th>2</th>\n",
       "      <td>3</td>\n",
       "      <td>1</td>\n",
       "      <td>3</td>\n",
       "      <td>Heikkinen, Miss. Laina</td>\n",
       "      <td>female</td>\n",
       "      <td>26.0</td>\n",
       "      <td>0</td>\n",
       "      <td>0</td>\n",
       "      <td>STON/O2. 3101282</td>\n",
       "      <td>7.9250</td>\n",
       "      <td>NaN</td>\n",
       "      <td>S</td>\n",
       "    </tr>\n",
       "    <tr>\n",
       "      <th>3</th>\n",
       "      <td>4</td>\n",
       "      <td>1</td>\n",
       "      <td>1</td>\n",
       "      <td>Futrelle, Mrs. Jacques Heath (Lily May Peel)</td>\n",
       "      <td>female</td>\n",
       "      <td>35.0</td>\n",
       "      <td>1</td>\n",
       "      <td>0</td>\n",
       "      <td>113803</td>\n",
       "      <td>53.1000</td>\n",
       "      <td>C123</td>\n",
       "      <td>S</td>\n",
       "    </tr>\n",
       "    <tr>\n",
       "      <th>4</th>\n",
       "      <td>5</td>\n",
       "      <td>0</td>\n",
       "      <td>3</td>\n",
       "      <td>Allen, Mr. William Henry</td>\n",
       "      <td>male</td>\n",
       "      <td>35.0</td>\n",
       "      <td>0</td>\n",
       "      <td>0</td>\n",
       "      <td>373450</td>\n",
       "      <td>8.0500</td>\n",
       "      <td>NaN</td>\n",
       "      <td>S</td>\n",
       "    </tr>\n",
       "  </tbody>\n",
       "</table>\n",
       "</div>"
      ],
      "text/plain": [
       "   PassengerId  Survived  Pclass  \\\n",
       "0            1         0       3   \n",
       "1            2         1       1   \n",
       "2            3         1       3   \n",
       "3            4         1       1   \n",
       "4            5         0       3   \n",
       "\n",
       "                                                Name     Sex   Age  SibSp  \\\n",
       "0                            Braund, Mr. Owen Harris    male  22.0      1   \n",
       "1  Cumings, Mrs. John Bradley (Florence Briggs Th...  female  38.0      1   \n",
       "2                             Heikkinen, Miss. Laina  female  26.0      0   \n",
       "3       Futrelle, Mrs. Jacques Heath (Lily May Peel)  female  35.0      1   \n",
       "4                           Allen, Mr. William Henry    male  35.0      0   \n",
       "\n",
       "   Parch            Ticket     Fare Cabin Embarked  \n",
       "0      0         A/5 21171   7.2500   NaN        S  \n",
       "1      0          PC 17599  71.2833   C85        C  \n",
       "2      0  STON/O2. 3101282   7.9250   NaN        S  \n",
       "3      0            113803  53.1000  C123        S  \n",
       "4      0            373450   8.0500   NaN        S  "
      ]
     },
     "execution_count": 3,
     "metadata": {},
     "output_type": "execute_result"
    }
   ],
   "source": [
    "# print first five records\n",
    "train.head()"
   ]
  },
  {
   "cell_type": "markdown",
   "id": "3b7dd8fd-7c26-4d66-b331-7ca51a689a7a",
   "metadata": {},
   "source": [
    "We have 12 variables, we will use the data dictionary from Kaggle*, which contains their descriptions. Here are some observations about them:\n",
    "- PassangerId is a unique identifier for each passenger, it almost certainly does not carry any useful information. This is the first candidate for removal but we'll decide on it after closer examination.\n",
    "- Survived is our target(dependent) variable, we want to create a model that predicts it.\n",
    "- There are 5 independent variables that are categorical, namely Pclass, Sex, Cabin, Ticket and Embarked.\n",
    "- Pclass is an ordinal variable, 1 is the first class, and so on.\n",
    "- The ticket will require further investigation, and it is unclear whether it is unique and whether there is a pattern to it.\n",
    "- Name variable contains honorifics.\n",
    "- Embarked variable contains the abbreviation of Embarkation cities.\n",
    "- Cabin variable contains empty values, as well as letters, this will also require further investigation.\n",
    "\n",
    "*https://www.kaggle.com/competitions/titanic/data"
   ]
  },
  {
   "cell_type": "markdown",
   "id": "ce06a15c-46a1-4d49-b171-39ca90fbc6fd",
   "metadata": {},
   "source": [
    "<h2>2.1 Data cleaning</h2>"
   ]
  },
  {
   "cell_type": "markdown",
   "id": "7945a308-d413-46b2-9fa8-77be21d5ec0e",
   "metadata": {},
   "source": [
    "<h3>Identify columns that contain zero or very few values</h3>"
   ]
  },
  {
   "cell_type": "code",
   "execution_count": 18,
   "id": "2faa78b0-4a54-48d8-a1c0-8efa8dbdb049",
   "metadata": {},
   "outputs": [
    {
     "name": "stdout",
     "output_type": "stream",
     "text": [
      "PassengerId: 891, 100.00%\n",
      "Survived: 2, 0.22%\n",
      "Pclass: 3, 0.34%\n",
      "Name: 891, 100.00%\n",
      "Sex: 2, 0.22%\n",
      "Age: 88, 9.88%\n",
      "SibSp: 7, 0.79%\n",
      "Parch: 7, 0.79%\n",
      "Ticket: 681, 76.43%\n",
      "Fare: 248, 27.83%\n",
      "Cabin: 147, 16.50%\n",
      "Embarked: 3, 0.34%\n"
     ]
    }
   ],
   "source": [
    "# get the Series of numbers of unique values\n",
    "unique_values_series = train.nunique()\n",
    "\n",
    "# iterate through the Series and calculate unique values as a percentage of all values\n",
    "for i, v in unique_values_series.items():\n",
    "    percentage = v / train.shape[0] * 100\n",
    "    print('%s: %d, %.2f%%' % (i, v, percentage))"
   ]
  },
  {
   "cell_type": "markdown",
   "id": "84ff939c-0b98-4fbf-a9d9-2ad2007dce7a",
   "metadata": {},
   "source": [
    "Key observations:\n",
    "- PassengerId and Name are unique, PassengerId seems to have no predictive power, so we will drop it.\n",
    "- Name contains titles, which we will extract, they may have predictive power, so we will leave them.\n",
    "- Survived is our target variable, so we will leave it.\n",
    "- Pclass, Sex, Embarked, SibSp, Parch are categorical variables, so it is obvious that their percentage is low\n",
    "- Age and Fare need some more investigation, we will check their variance, but first we will need to get more knowledge about them.\n",
    "- Ticket and Cabin need some simplifications, they have too many unique values."
   ]
  },
  {
   "cell_type": "markdown",
   "id": "6f98033b-9d55-4dad-a3b0-fc28d786e609",
   "metadata": {
    "tags": []
   },
   "source": [
    "<h3>Identify rows that contain duplicate data</h3>"
   ]
  },
  {
   "cell_type": "code",
   "execution_count": 19,
   "id": "64495b7d-97ba-42d7-b8fb-423a7d03f26c",
   "metadata": {},
   "outputs": [
    {
     "name": "stdout",
     "output_type": "stream",
     "text": [
      "False\n"
     ]
    }
   ],
   "source": [
    "# check dataset for duplicates\n",
    "dups = train.duplicated()\n",
    "print(dups.any())"
   ]
  },
  {
   "cell_type": "markdown",
   "id": "35940459-0e4d-473f-94ae-6380a0e0685b",
   "metadata": {},
   "source": [
    "Dataset contains no duplicates."
   ]
  },
  {
   "cell_type": "markdown",
   "id": "5ca9546a-caad-454a-9657-d00eda1b5d6d",
   "metadata": {},
   "source": [
    "<h3>Identify outliers</h3>"
   ]
  },
  {
   "cell_type": "code",
   "execution_count": null,
   "id": "e01ec1df-a6d7-4ad5-a812-848e264d17d8",
   "metadata": {},
   "outputs": [],
   "source": []
  }
 ],
 "metadata": {
  "kernelspec": {
   "display_name": "Python 3 (ipykernel)",
   "language": "python",
   "name": "python3"
  },
  "language_info": {
   "codemirror_mode": {
    "name": "ipython",
    "version": 3
   },
   "file_extension": ".py",
   "mimetype": "text/x-python",
   "name": "python",
   "nbconvert_exporter": "python",
   "pygments_lexer": "ipython3",
   "version": "3.9.13"
  }
 },
 "nbformat": 4,
 "nbformat_minor": 5
}
